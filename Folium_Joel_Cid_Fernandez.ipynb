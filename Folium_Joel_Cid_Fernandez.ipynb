{
  "cells": [
    {
      "cell_type": "markdown",
      "metadata": {
        "id": "u4iGxxGKQQ_5"
      },
      "source": [
        "# Etapa 5: **Análisis de las ubicaciones de los sitios de lanzamiento con Folium**\n"
      ]
    },
    {
      "cell_type": "markdown",
      "metadata": {
        "id": "Kq1zsSpVQQ_6"
      },
      "source": [
        "La tasa de éxito del lanzamiento puede depender de muchos factores, como la masa de la carga útil, el tipo de órbita, etc. También puede depender de la ubicación y las proximidades de un lugar de lanzamiento, es decir, de la posición inicial de las trayectorias de los cohetes. Encontrar una ubicación óptima para la construcción de una base de lanzamiento implica ciertamente muchos factores y es de esperar que podamos descubrir algunos de ellos analizando las ubicaciones de las bases de lanzamiento existentes."
      ]
    },
    {
      "cell_type": "markdown",
      "metadata": {
        "id": "fjDijuSvQQ_6"
      },
      "source": [
        "En los anteriores laboratorios de análisis de datos exploratorios, has visualizado el conjunto de datos de lanzamiento de SpaceX utilizando `matplotlib` y `seaborn` y has descubierto algunas correlaciones preliminares entre el lugar de lanzamiento y las tasas de éxito. En este laboratorio, realizarás un análisis visual más interactivo utilizando `Folium`.\n"
      ]
    },
    {
      "cell_type": "markdown",
      "metadata": {
        "id": "FAeqfNLPQQ_7"
      },
      "source": [
        "## Objetivos\n"
      ]
    },
    {
      "cell_type": "markdown",
      "metadata": {
        "id": "hP5yfDImQQ_7"
      },
      "source": [
        "Este laboratorio contiene las siguientes tareas:\n",
        "\n",
        "* **Tarea 1:** Marcar todos los sitios de lanzamiento en un mapa\n",
        "* **Tarea 2:** Marcar en el mapa los lanzamientos exitosos/fracasados de cada sitio\n",
        "* **Tarea 3:** Calcular las distancias entre un sitio de lanzamiento y sus proximidades\n",
        "\n",
        "Después de completar las tareas anteriores, deberías ser capaz de encontrar algunos patrones geográficos sobre los sitios de lanzamiento.\n"
      ]
    },
    {
      "cell_type": "markdown",
      "metadata": {
        "id": "zVfjqNVRQQ_8"
      },
      "source": [
        "Primero vamos a importar los paquetes de Python necesarios para este laboratorio:\n"
      ]
    },
    {
      "cell_type": "code",
      "execution_count": 3,
      "metadata": {
        "id": "J0z0kBmpQQ_8"
      },
      "outputs": [],
      "source": [
        "import os\n",
        "import pandas as pd\n",
        "try:\n",
        "    import folium\n",
        "except ImportError as e:\n",
        "    !pip install folium wget\n",
        "    import folium"
      ]
    },
    {
      "cell_type": "code",
      "execution_count": 4,
      "metadata": {
        "id": "vDu3IwDmQQ_9"
      },
      "outputs": [],
      "source": [
        "from folium.plugins import MarkerCluster\n",
        "from folium.plugins import MousePosition\n",
        "from folium.features import DivIcon"
      ]
    },
    {
      "cell_type": "markdown",
      "metadata": {
        "id": "-SNPOBkuQQ__"
      },
      "source": [
        "## Tarea 1: Marcar todos los lugares de lanzamiento en un mapa\n"
      ]
    },
    {
      "cell_type": "markdown",
      "metadata": {
        "id": "Ld2TQUNaQQ__"
      },
      "source": [
        "En primer lugar, vamos a intentar añadir la ubicación de cada sitio en un mapa utilizando las coordenadas de latitud y longitud del sitio\n"
      ]
    },
    {
      "cell_type": "markdown",
      "metadata": {
        "id": "EjavuY-7QQ__"
      },
      "source": [
        "El siguiente conjunto de datos con el nombre `spacex_launch_geo.csv` es un conjunto de datos aumentado con la latitud y la longitud añadidas para cada sitio.\n"
      ]
    },
    {
      "cell_type": "code",
      "execution_count": 5,
      "metadata": {
        "colab": {
          "base_uri": "https://localhost:8080/",
          "height": 345
        },
        "id": "ZUzbXYQJQRAA",
        "outputId": "7c6aa3d1-e68a-4b15-dcac-70999af5fa83"
      },
      "outputs": [
        {
          "output_type": "error",
          "ename": "FileNotFoundError",
          "evalue": "ignored",
          "traceback": [
            "\u001b[0;31m---------------------------------------------------------------------------\u001b[0m",
            "\u001b[0;31mFileNotFoundError\u001b[0m                         Traceback (most recent call last)",
            "\u001b[0;32m<ipython-input-5-cace6a840a0d>\u001b[0m in \u001b[0;36m<cell line: 2>\u001b[0;34m()\u001b[0m\n\u001b[1;32m      1\u001b[0m \u001b[0mspacex_csv_file\u001b[0m \u001b[0;34m=\u001b[0m \u001b[0;34m'spacex_launch_geo.csv'\u001b[0m\u001b[0;34m\u001b[0m\u001b[0;34m\u001b[0m\u001b[0m\n\u001b[0;32m----> 2\u001b[0;31m \u001b[0mspacex_df\u001b[0m\u001b[0;34m=\u001b[0m\u001b[0mpd\u001b[0m\u001b[0;34m.\u001b[0m\u001b[0mread_csv\u001b[0m\u001b[0;34m(\u001b[0m\u001b[0mspacex_csv_file\u001b[0m\u001b[0;34m)\u001b[0m\u001b[0;34m\u001b[0m\u001b[0;34m\u001b[0m\u001b[0m\n\u001b[0m\u001b[1;32m      3\u001b[0m \u001b[0mspacex_df\u001b[0m\u001b[0;34m.\u001b[0m\u001b[0mhead\u001b[0m\u001b[0;34m(\u001b[0m\u001b[0;34m)\u001b[0m\u001b[0;34m\u001b[0m\u001b[0;34m\u001b[0m\u001b[0m\n",
            "\u001b[0;32m/usr/local/lib/python3.9/dist-packages/pandas/util/_decorators.py\u001b[0m in \u001b[0;36mwrapper\u001b[0;34m(*args, **kwargs)\u001b[0m\n\u001b[1;32m    209\u001b[0m                 \u001b[0;32melse\u001b[0m\u001b[0;34m:\u001b[0m\u001b[0;34m\u001b[0m\u001b[0;34m\u001b[0m\u001b[0m\n\u001b[1;32m    210\u001b[0m                     \u001b[0mkwargs\u001b[0m\u001b[0;34m[\u001b[0m\u001b[0mnew_arg_name\u001b[0m\u001b[0;34m]\u001b[0m \u001b[0;34m=\u001b[0m \u001b[0mnew_arg_value\u001b[0m\u001b[0;34m\u001b[0m\u001b[0;34m\u001b[0m\u001b[0m\n\u001b[0;32m--> 211\u001b[0;31m             \u001b[0;32mreturn\u001b[0m \u001b[0mfunc\u001b[0m\u001b[0;34m(\u001b[0m\u001b[0;34m*\u001b[0m\u001b[0margs\u001b[0m\u001b[0;34m,\u001b[0m \u001b[0;34m**\u001b[0m\u001b[0mkwargs\u001b[0m\u001b[0;34m)\u001b[0m\u001b[0;34m\u001b[0m\u001b[0;34m\u001b[0m\u001b[0m\n\u001b[0m\u001b[1;32m    212\u001b[0m \u001b[0;34m\u001b[0m\u001b[0m\n\u001b[1;32m    213\u001b[0m         \u001b[0;32mreturn\u001b[0m \u001b[0mcast\u001b[0m\u001b[0;34m(\u001b[0m\u001b[0mF\u001b[0m\u001b[0;34m,\u001b[0m \u001b[0mwrapper\u001b[0m\u001b[0;34m)\u001b[0m\u001b[0;34m\u001b[0m\u001b[0;34m\u001b[0m\u001b[0m\n",
            "\u001b[0;32m/usr/local/lib/python3.9/dist-packages/pandas/util/_decorators.py\u001b[0m in \u001b[0;36mwrapper\u001b[0;34m(*args, **kwargs)\u001b[0m\n\u001b[1;32m    329\u001b[0m                     \u001b[0mstacklevel\u001b[0m\u001b[0;34m=\u001b[0m\u001b[0mfind_stack_level\u001b[0m\u001b[0;34m(\u001b[0m\u001b[0;34m)\u001b[0m\u001b[0;34m,\u001b[0m\u001b[0;34m\u001b[0m\u001b[0;34m\u001b[0m\u001b[0m\n\u001b[1;32m    330\u001b[0m                 )\n\u001b[0;32m--> 331\u001b[0;31m             \u001b[0;32mreturn\u001b[0m \u001b[0mfunc\u001b[0m\u001b[0;34m(\u001b[0m\u001b[0;34m*\u001b[0m\u001b[0margs\u001b[0m\u001b[0;34m,\u001b[0m \u001b[0;34m**\u001b[0m\u001b[0mkwargs\u001b[0m\u001b[0;34m)\u001b[0m\u001b[0;34m\u001b[0m\u001b[0;34m\u001b[0m\u001b[0m\n\u001b[0m\u001b[1;32m    332\u001b[0m \u001b[0;34m\u001b[0m\u001b[0m\n\u001b[1;32m    333\u001b[0m         \u001b[0;31m# error: \"Callable[[VarArg(Any), KwArg(Any)], Any]\" has no\u001b[0m\u001b[0;34m\u001b[0m\u001b[0;34m\u001b[0m\u001b[0m\n",
            "\u001b[0;32m/usr/local/lib/python3.9/dist-packages/pandas/io/parsers/readers.py\u001b[0m in \u001b[0;36mread_csv\u001b[0;34m(filepath_or_buffer, sep, delimiter, header, names, index_col, usecols, squeeze, prefix, mangle_dupe_cols, dtype, engine, converters, true_values, false_values, skipinitialspace, skiprows, skipfooter, nrows, na_values, keep_default_na, na_filter, verbose, skip_blank_lines, parse_dates, infer_datetime_format, keep_date_col, date_parser, dayfirst, cache_dates, iterator, chunksize, compression, thousands, decimal, lineterminator, quotechar, quoting, doublequote, escapechar, comment, encoding, encoding_errors, dialect, error_bad_lines, warn_bad_lines, on_bad_lines, delim_whitespace, low_memory, memory_map, float_precision, storage_options)\u001b[0m\n\u001b[1;32m    948\u001b[0m     \u001b[0mkwds\u001b[0m\u001b[0;34m.\u001b[0m\u001b[0mupdate\u001b[0m\u001b[0;34m(\u001b[0m\u001b[0mkwds_defaults\u001b[0m\u001b[0;34m)\u001b[0m\u001b[0;34m\u001b[0m\u001b[0;34m\u001b[0m\u001b[0m\n\u001b[1;32m    949\u001b[0m \u001b[0;34m\u001b[0m\u001b[0m\n\u001b[0;32m--> 950\u001b[0;31m     \u001b[0;32mreturn\u001b[0m \u001b[0m_read\u001b[0m\u001b[0;34m(\u001b[0m\u001b[0mfilepath_or_buffer\u001b[0m\u001b[0;34m,\u001b[0m \u001b[0mkwds\u001b[0m\u001b[0;34m)\u001b[0m\u001b[0;34m\u001b[0m\u001b[0;34m\u001b[0m\u001b[0m\n\u001b[0m\u001b[1;32m    951\u001b[0m \u001b[0;34m\u001b[0m\u001b[0m\n\u001b[1;32m    952\u001b[0m \u001b[0;34m\u001b[0m\u001b[0m\n",
            "\u001b[0;32m/usr/local/lib/python3.9/dist-packages/pandas/io/parsers/readers.py\u001b[0m in \u001b[0;36m_read\u001b[0;34m(filepath_or_buffer, kwds)\u001b[0m\n\u001b[1;32m    603\u001b[0m \u001b[0;34m\u001b[0m\u001b[0m\n\u001b[1;32m    604\u001b[0m     \u001b[0;31m# Create the parser.\u001b[0m\u001b[0;34m\u001b[0m\u001b[0;34m\u001b[0m\u001b[0m\n\u001b[0;32m--> 605\u001b[0;31m     \u001b[0mparser\u001b[0m \u001b[0;34m=\u001b[0m \u001b[0mTextFileReader\u001b[0m\u001b[0;34m(\u001b[0m\u001b[0mfilepath_or_buffer\u001b[0m\u001b[0;34m,\u001b[0m \u001b[0;34m**\u001b[0m\u001b[0mkwds\u001b[0m\u001b[0;34m)\u001b[0m\u001b[0;34m\u001b[0m\u001b[0;34m\u001b[0m\u001b[0m\n\u001b[0m\u001b[1;32m    606\u001b[0m \u001b[0;34m\u001b[0m\u001b[0m\n\u001b[1;32m    607\u001b[0m     \u001b[0;32mif\u001b[0m \u001b[0mchunksize\u001b[0m \u001b[0;32mor\u001b[0m \u001b[0miterator\u001b[0m\u001b[0;34m:\u001b[0m\u001b[0;34m\u001b[0m\u001b[0;34m\u001b[0m\u001b[0m\n",
            "\u001b[0;32m/usr/local/lib/python3.9/dist-packages/pandas/io/parsers/readers.py\u001b[0m in \u001b[0;36m__init__\u001b[0;34m(self, f, engine, **kwds)\u001b[0m\n\u001b[1;32m   1440\u001b[0m \u001b[0;34m\u001b[0m\u001b[0m\n\u001b[1;32m   1441\u001b[0m         \u001b[0mself\u001b[0m\u001b[0;34m.\u001b[0m\u001b[0mhandles\u001b[0m\u001b[0;34m:\u001b[0m \u001b[0mIOHandles\u001b[0m \u001b[0;34m|\u001b[0m \u001b[0;32mNone\u001b[0m \u001b[0;34m=\u001b[0m \u001b[0;32mNone\u001b[0m\u001b[0;34m\u001b[0m\u001b[0;34m\u001b[0m\u001b[0m\n\u001b[0;32m-> 1442\u001b[0;31m         \u001b[0mself\u001b[0m\u001b[0;34m.\u001b[0m\u001b[0m_engine\u001b[0m \u001b[0;34m=\u001b[0m \u001b[0mself\u001b[0m\u001b[0;34m.\u001b[0m\u001b[0m_make_engine\u001b[0m\u001b[0;34m(\u001b[0m\u001b[0mf\u001b[0m\u001b[0;34m,\u001b[0m \u001b[0mself\u001b[0m\u001b[0;34m.\u001b[0m\u001b[0mengine\u001b[0m\u001b[0;34m)\u001b[0m\u001b[0;34m\u001b[0m\u001b[0;34m\u001b[0m\u001b[0m\n\u001b[0m\u001b[1;32m   1443\u001b[0m \u001b[0;34m\u001b[0m\u001b[0m\n\u001b[1;32m   1444\u001b[0m     \u001b[0;32mdef\u001b[0m \u001b[0mclose\u001b[0m\u001b[0;34m(\u001b[0m\u001b[0mself\u001b[0m\u001b[0;34m)\u001b[0m \u001b[0;34m->\u001b[0m \u001b[0;32mNone\u001b[0m\u001b[0;34m:\u001b[0m\u001b[0;34m\u001b[0m\u001b[0;34m\u001b[0m\u001b[0m\n",
            "\u001b[0;32m/usr/local/lib/python3.9/dist-packages/pandas/io/parsers/readers.py\u001b[0m in \u001b[0;36m_make_engine\u001b[0;34m(self, f, engine)\u001b[0m\n\u001b[1;32m   1733\u001b[0m                 \u001b[0;32mif\u001b[0m \u001b[0;34m\"b\"\u001b[0m \u001b[0;32mnot\u001b[0m \u001b[0;32min\u001b[0m \u001b[0mmode\u001b[0m\u001b[0;34m:\u001b[0m\u001b[0;34m\u001b[0m\u001b[0;34m\u001b[0m\u001b[0m\n\u001b[1;32m   1734\u001b[0m                     \u001b[0mmode\u001b[0m \u001b[0;34m+=\u001b[0m \u001b[0;34m\"b\"\u001b[0m\u001b[0;34m\u001b[0m\u001b[0;34m\u001b[0m\u001b[0m\n\u001b[0;32m-> 1735\u001b[0;31m             self.handles = get_handle(\n\u001b[0m\u001b[1;32m   1736\u001b[0m                 \u001b[0mf\u001b[0m\u001b[0;34m,\u001b[0m\u001b[0;34m\u001b[0m\u001b[0;34m\u001b[0m\u001b[0m\n\u001b[1;32m   1737\u001b[0m                 \u001b[0mmode\u001b[0m\u001b[0;34m,\u001b[0m\u001b[0;34m\u001b[0m\u001b[0;34m\u001b[0m\u001b[0m\n",
            "\u001b[0;32m/usr/local/lib/python3.9/dist-packages/pandas/io/common.py\u001b[0m in \u001b[0;36mget_handle\u001b[0;34m(path_or_buf, mode, encoding, compression, memory_map, is_text, errors, storage_options)\u001b[0m\n\u001b[1;32m    854\u001b[0m         \u001b[0;32mif\u001b[0m \u001b[0mioargs\u001b[0m\u001b[0;34m.\u001b[0m\u001b[0mencoding\u001b[0m \u001b[0;32mand\u001b[0m \u001b[0;34m\"b\"\u001b[0m \u001b[0;32mnot\u001b[0m \u001b[0;32min\u001b[0m \u001b[0mioargs\u001b[0m\u001b[0;34m.\u001b[0m\u001b[0mmode\u001b[0m\u001b[0;34m:\u001b[0m\u001b[0;34m\u001b[0m\u001b[0;34m\u001b[0m\u001b[0m\n\u001b[1;32m    855\u001b[0m             \u001b[0;31m# Encoding\u001b[0m\u001b[0;34m\u001b[0m\u001b[0;34m\u001b[0m\u001b[0m\n\u001b[0;32m--> 856\u001b[0;31m             handle = open(\n\u001b[0m\u001b[1;32m    857\u001b[0m                 \u001b[0mhandle\u001b[0m\u001b[0;34m,\u001b[0m\u001b[0;34m\u001b[0m\u001b[0;34m\u001b[0m\u001b[0m\n\u001b[1;32m    858\u001b[0m                 \u001b[0mioargs\u001b[0m\u001b[0;34m.\u001b[0m\u001b[0mmode\u001b[0m\u001b[0;34m,\u001b[0m\u001b[0;34m\u001b[0m\u001b[0;34m\u001b[0m\u001b[0m\n",
            "\u001b[0;31mFileNotFoundError\u001b[0m: [Errno 2] No such file or directory: 'spacex_launch_geo.csv'"
          ]
        }
      ],
      "source": [
        "spacex_csv_file = 'spacex_launch_geo.csv'\n",
        "spacex_df=pd.read_csv(spacex_csv_file)\n",
        "spacex_df.head()"
      ]
    },
    {
      "cell_type": "markdown",
      "metadata": {
        "id": "ploBjcdGQRAA"
      },
      "source": [
        "Ahora, puedes echar un vistazo a las coordenadas de cada sitio.\n"
      ]
    },
    {
      "cell_type": "code",
      "source": [
        "# Selecciona las columnas relevantes: `Launch Site`, `Lat(Latitude)`, `Long(Longitude)`, `class`\n",
        "#Inserta tu código aquí\n",
        "spacex_df_columnas=spacex_df[ [\"Launch Site\",\"Lat\",\"Long\",\"class\"]]\n",
        "spacex_df_columnas"
      ],
      "metadata": {
        "id": "470ODmeZQB_w"
      },
      "execution_count": null,
      "outputs": []
    },
    {
      "cell_type": "code",
      "execution_count": null,
      "metadata": {
        "id": "3LZBCyvwQRAA"
      },
      "outputs": [],
      "source": [
        "launch_sites_df = spacex_df.groupby(['Launch Site'], as_index=False).first()\n",
        "launch_sites_df = launch_sites_df[['Launch Site', 'Lat', 'Long']]\n",
        "launch_sites_df"
      ]
    },
    {
      "cell_type": "markdown",
      "metadata": {
        "id": "q0pr2T_SQRAB"
      },
      "source": [
        "Las coordenadas anteriores son simples números que no pueden darle ninguna idea intuitiva sobre dónde están esos lugares de lanzamiento. Si eres muy bueno en geografía, puedes interpretar esos números directamente en tu mente. Si no, tampoco pasa nada. Visualicemos esas ubicaciones fijándolas en un mapa.\n"
      ]
    },
    {
      "cell_type": "markdown",
      "metadata": {
        "id": "_JZu7WpAQRAB"
      },
      "source": [
        "Primero necesitamos crear un objeto `Map` de folium, con una ubicación central inicial para ser el Centro Espacial Johnson de la NASA en Houston, Texas."
      ]
    },
    {
      "cell_type": "code",
      "execution_count": null,
      "metadata": {
        "id": "ThFChTB8QRAC"
      },
      "outputs": [],
      "source": [
        "nasa_coordinate = [29.559684888503615, -95.0830971930759]\n",
        "site_map = folium.Map(location=nasa_coordinate, zoom_start=10)"
      ]
    },
    {
      "cell_type": "markdown",
      "metadata": {
        "id": "5_CdnqVVQRAC"
      },
      "source": [
        "Podríamos utilizar `folium.Circle` para añadir un área circular resaltada con una etiqueta de texto en una coordenada específica. Por ejemplo,\n"
      ]
    },
    {
      "cell_type": "code",
      "execution_count": null,
      "metadata": {
        "id": "IcAfjLuyQRAC"
      },
      "outputs": [],
      "source": [
        "circle = folium.Circle(nasa_coordinate, radius=1000, color='#d35400', fill=True).add_child(folium.Popup('NASA Johnson Space Center'))\n",
        "\n",
        "marker = folium.map.Marker(\n",
        "    nasa_coordinate,\n",
        "    icon=DivIcon(\n",
        "        icon_size=(20,20),\n",
        "        icon_anchor=(0,0),\n",
        "        html='<div style=\"font-size: 12; color:#d35400;\"><b>%s</b></div>' % 'NASA JSC',\n",
        "        )\n",
        "    )\n",
        "\n",
        "site_map.add_child(circle)\n",
        "site_map.add_child(marker)"
      ]
    },
    {
      "cell_type": "markdown",
      "metadata": {
        "id": "q7JbPMZPQRAD"
      },
      "source": [
        "y deberías encontrar un pequeño círculo amarillo cerca de la ciudad de Houston y puedes ampliarlo para ver un círculo más grande.\n"
      ]
    },
    {
      "cell_type": "markdown",
      "metadata": {
        "id": "2ao2gIf4QRAD"
      },
      "source": [
        "Ahora, agreguemos un círculo para cada sitio de lanzamiento en el marco de datos \"sitios de lanzamiento\".\n"
      ]
    },
    {
      "cell_type": "markdown",
      "metadata": {
        "id": "boQsx8kMQRAD"
      },
      "source": [
        "### Crear y añadir `folium.Circle` y `folium.Marker` para cada sitio de lanzamiento en el mapa del sitio"
      ]
    },
    {
      "cell_type": "markdown",
      "metadata": {
        "id": "I40Nr-m-QRAD"
      },
      "source": [
        "Un ejemplo de folium.Circle:\n"
      ]
    },
    {
      "cell_type": "markdown",
      "source": [
        "` folium.Circle([coordenadas], color='#d35400', radius=50, fill=True).add_child(folium.Popup((site['Launch Site'])))`\n"
      ],
      "metadata": {
        "id": "M_Kdl7V9e_Zo"
      }
    },
    {
      "cell_type": "markdown",
      "metadata": {
        "id": "cr3tPIVRQRAE"
      },
      "source": [
        "Un ejemplo de folium.Marker:\n"
      ]
    },
    {
      "cell_type": "markdown",
      "metadata": {
        "id": "2RVn4RIUQRAE"
      },
      "source": [
        "\n",
        "```\n",
        "folium.Marker(coordinate,\n",
        "icon=DivIcon(icon_size=(20,20),\n",
        "icon_anchor=(0,0), \n",
        "html='<div style=\"font-size: 12; color:#d35400;\"><b>%s</b></div>' % site['Launch Site'], ))\n",
        "```\n"
      ]
    },
    {
      "cell_type": "code",
      "execution_count": null,
      "metadata": {
        "id": "mgtl4-RXQRAE"
      },
      "outputs": [],
      "source": [
        "# Inserta tu código aquí\n",
        "site_map = folium.Map(location=nasa_coordinate, zoom_start=5)\n",
        "\n",
        "for index, row in launch_sites_df.iterrows():\n",
        "  circle = folium.Circle([row[\"Lat\"],row[\"Long\"]], radius=50, color='#d35400', fill=True).add_child(folium.Popup('NASA Johnson Space Center'))\n",
        "\n",
        "  marker = folium.map.Marker([row[\"Lat\"],row[\"Long\"]],icon=DivIcon(icon_size=(20,20),\n",
        "        icon_anchor=(0,0),\n",
        "        html='<div style=\"font-size: 12; color:#d35400;\"><b>%s</b></div>' % 'NASA JSC',\n",
        "        )\n",
        "    )\n",
        "  site_map.add_child(circle)\n",
        "  site_map.add_child(marker)\n",
        "site_map"
      ]
    },
    {
      "cell_type": "markdown",
      "metadata": {
        "id": "zrYB-sOfQRAE"
      },
      "source": [
        "El mapa generado con los lugares de lanzamiento marcados debería tener un aspecto similar al siguiente:\n"
      ]
    },
    {
      "cell_type": "markdown",
      "metadata": {
        "id": "yapI95suQRAF"
      },
      "source": [
        "<center>\n",
        "    <img src=\"https://cf-courses-data.s3.us.cloud-object-storage.appdomain.cloud/IBM-DS0321EN-SkillsNetwork/labs/module_3/images/launch_site_markers.png\" />\n",
        "</center>\n"
      ]
    },
    {
      "cell_type": "markdown",
      "metadata": {
        "id": "2A_rhGnqQRAF"
      },
      "source": [
        "Ahora, puedes explorar el mapa acercando o alejando las zonas marcadas\n",
        "y tratar de responder a las siguientes preguntas:\n",
        "\n",
        "* ¿Están todas las zonas de lanzamiento cerca de la línea del Ecuador?\n",
        "* ¿Están todos los puntos de lanzamiento muy cerca de la costa?\n",
        "\n",
        "Intenta también explicar tus conclusiones.\n"
      ]
    },
    {
      "cell_type": "markdown",
      "metadata": {
        "id": "LkS9dnjHQRAF"
      },
      "source": [
        "# Tarea 2: Marcar en el mapa los lanzamientos exitosos/fracasados de cada sitio\n"
      ]
    },
    {
      "cell_type": "markdown",
      "metadata": {
        "id": "RPeJBbQbQRAF"
      },
      "source": [
        "A continuación, vamos a intentar mejorar el mapa añadiendo los resultados de los lanzamientos de cada emplazamiento, y ver qué emplazamientos tienen un alto índice de éxito.\n",
        "Recordemos que el marco de datos spacex_df contiene registros detallados de los lanzamientos, y la columna `clase` indica si el lanzamiento fue exitoso o no\n"
      ]
    },
    {
      "cell_type": "code",
      "execution_count": null,
      "metadata": {
        "id": "Wv7tS5tsQRAF"
      },
      "outputs": [],
      "source": [
        "spacex_df.tail(10)"
      ]
    },
    {
      "cell_type": "markdown",
      "metadata": {
        "id": "YvkfXvLdQRAG"
      },
      "source": [
        "A continuación, vamos a crear marcadores para todos los registros de lanzamiento.\n",
        "Si un lanzamiento fue exitoso `(class=1)`, entonces usamos un marcador verde y si un lanzamiento fue fallido, usamos un marcador rojo `(class=0)`.\n"
      ]
    },
    {
      "cell_type": "markdown",
      "metadata": {
        "id": "kHidNvALQRAG"
      },
      "source": [
        "Tenga en cuenta que un lanzamiento sólo se produce en uno de los cuatro sitios de lanzamiento, lo que significa que muchos registros de lanzamiento tendrán exactamente la misma coordenada. Los grupos de marcadores pueden ser una buena forma de simplificar un mapa que contenga muchos marcadores con la misma coordenada.\n"
      ]
    },
    {
      "cell_type": "markdown",
      "metadata": {
        "id": "4LY0TX5hQRAH"
      },
      "source": [
        "Primero vamos a crear un objeto `MarkerCluster`.\n"
      ]
    },
    {
      "cell_type": "code",
      "execution_count": null,
      "metadata": {
        "id": "wP9PVUZ7Jfjt",
        "papermill": {
          "duration": 0.904519,
          "end_time": "2020-09-19T06:27:38.357041",
          "exception": false,
          "start_time": "2020-09-19T06:27:37.452522",
          "status": "completed"
        },
        "tags": []
      },
      "outputs": [],
      "source": [
        "marker_cluster = MarkerCluster()\n"
      ]
    },
    {
      "cell_type": "markdown",
      "metadata": {
        "id": "-SyXf05YQRAH"
      },
      "source": [
        "### Crea una nueva columna en el dataframe `spacex_df` llamada `marker_color` para almacenar los colores de los marcadores basados en el valor `class\n"
      ]
    },
    {
      "cell_type": "markdown",
      "source": [
        "Crea una función llamada `assign_marker_color` que devuelva `green` o `red` en función de si `class` (argumento) es 1 o 0. Aplica esta función a la columna `class` dataset mediante el método `df[\"columna\"].apply(funcion)`. Por último, guardala en la columna `marker_color`"
      ],
      "metadata": {
        "id": "NP9DMAAVyutG"
      }
    },
    {
      "cell_type": "code",
      "source": [
        "# manera facil para crear una columna dependiendo si son rojo o verdes y dandole un 1 o 0\n",
        "colores=[]\n",
        "for clase in spacex_df[\"class\"]:\n",
        "  if clase==1:\n",
        "    colores.append(\"green\")\n",
        "  if clase==0:\n",
        "    colores.append(\"red\")\n",
        "spacex_df[\"marker_color\"]=colores\n",
        "spacex_df\n"
      ],
      "metadata": {
        "id": "9RVGnhQeho-p"
      },
      "execution_count": null,
      "outputs": []
    },
    {
      "cell_type": "code",
      "execution_count": null,
      "metadata": {
        "id": "J0aFt4lrQRAI"
      },
      "outputs": [],
      "source": [
        "# haciendo con una funcion\n",
        "def assign_marker_color(clase):\n",
        "    if clase== 1:\n",
        "        return \"green\"\n",
        "    else:\n",
        "        return \"red\"\n",
        "    \n",
        "\n",
        "spacex_df[\"marker_color\"] = spacex_df[\"class\"].apply(assign_marker_color)\n",
        "\n",
        "spacex_df.tail(10)"
      ]
    },
    {
      "cell_type": "markdown",
      "metadata": {
        "id": "IzvNH8hkQRAI"
      },
      "source": [
        "### Para cada resultado de lanzamiento en el marco de datos `spacex_df`, añadir un `folium.Marker` a `marker_cluster`\n"
      ]
    },
    {
      "cell_type": "markdown",
      "source": [
        "\n",
        "```\n",
        "folium.Marker([coordenadas], \n",
        "icon=folium.Icon(color='white', \n",
        "icon_color=record['marker_color']))\n",
        "```\n"
      ],
      "metadata": {
        "id": "YeQOQwQKjr1e"
      }
    },
    {
      "cell_type": "code",
      "execution_count": null,
      "metadata": {
        "id": "ciqpVF7uQRAJ"
      },
      "outputs": [],
      "source": [
        "#Inserta tu código aquí\n",
        "site_map.add_child(marker_cluster)\n",
        "\n",
        "for index, record in spacex_df.iterrows():\n",
        "    marker =folium.Marker([row[\"Lat\"],row[\"Long\"]],icon=folium.Icon (color='white',icon_color=record['marker_color']))\n",
        "#site_map.add_child(marker)\n",
        "#site_map\n"
      ]
    },
    {
      "cell_type": "markdown",
      "metadata": {
        "id": "enx7Ef2AQRAJ"
      },
      "source": [
        "Su mapa actualizado debería parecerse a las siguientes capturas de pantalla:\n"
      ]
    },
    {
      "cell_type": "markdown",
      "metadata": {
        "id": "yhU7okRWQRAJ"
      },
      "source": [
        "<center>\n",
        "    <img src=\"https://cf-courses-data.s3.us.cloud-object-storage.appdomain.cloud/IBM-DS0321EN-SkillsNetwork/labs/module_3/images/launch_site_marker_cluster.png\" />\n",
        "</center>\n"
      ]
    },
    {
      "cell_type": "markdown",
      "metadata": {
        "id": "pbqKyIetQRAJ"
      },
      "source": [
        "<center>\n",
        "    <img src=\"https://cf-courses-data.s3.us.cloud-object-storage.appdomain.cloud/IBM-DS0321EN-SkillsNetwork/labs/module_3/images/launch_site_marker_cluster_zoomed.png\" />\n",
        "</center>\n"
      ]
    },
    {
      "cell_type": "markdown",
      "metadata": {
        "id": "KHboBNYkQRAK"
      },
      "source": [
        "A partir de los marcadores etiquetados con colores en los grupos de marcadores, debería ser capaz de identificar fácilmente qué sitios de lanzamiento tienen tasas de éxito relativamente altas.\n"
      ]
    },
    {
      "cell_type": "markdown",
      "metadata": {
        "id": "whUSrofYQRAK"
      },
      "source": [
        "# TAREA 3: Calcular las distancias entre un lugar de lanzamiento y sus proximidades\n"
      ]
    },
    {
      "cell_type": "markdown",
      "metadata": {
        "id": "mINdUN69QRAK"
      },
      "source": [
        "A continuación, tenemos que explorar y analizar las proximidades de los lugares de lanzamiento.\n"
      ]
    },
    {
      "cell_type": "markdown",
      "metadata": {
        "id": "MqiCsaWqQRAK"
      },
      "source": [
        "Primero vamos a añadir un MousePosition en el mapa para obtener las coordenadas de un ratón sobre un punto del mapa. Así, mientras exploras el mapa, puedes encontrar fácilmente las coordenadas de cualquier punto de interés (como el ferrocarril)"
      ]
    },
    {
      "cell_type": "code",
      "execution_count": null,
      "metadata": {
        "id": "33nm2hYyQRAK"
      },
      "outputs": [],
      "source": [
        "formatter = \"function(num) {return L.Util.formatNum(num, 5);};\"\n",
        "mouse_position = MousePosition(\n",
        "    position='topright',\n",
        "    separator=' Long: ',\n",
        "    empty_string='NaN',\n",
        "    lng_first=False,\n",
        "    num_digits=20,\n",
        "    prefix='Lat:',\n",
        "    lat_formatter=formatter,\n",
        "    lng_formatter=formatter,\n",
        ")\n",
        "\n",
        "site_map.add_child(mouse_position)\n",
        "site_map"
      ]
    },
    {
      "cell_type": "markdown",
      "metadata": {
        "id": "fs-mG5XbQRAL"
      },
      "source": [
        "Ahora acerque el zoom a un lugar de lanzamiento y explore su proximidad para ver si puede encontrar fácilmente alguna vía férrea, carretera, costa, etc. Mueve el ratón hacia estos puntos y marca sus coordenadas (mostradas en la parte superior derecha) para conocer la distancia al lugar de lanzamiento.\n"
      ]
    },
    {
      "cell_type": "markdown",
      "metadata": {
        "id": "B_QUDbe5QRAL"
      },
      "source": [
        "Puedes calcular la distancia entre dos puntos del mapa a partir de sus valores `Lat` y `Long` utilizando el siguiente método:\n"
      ]
    },
    {
      "cell_type": "code",
      "execution_count": null,
      "metadata": {
        "id": "Dv6XRAQkQRAL"
      },
      "outputs": [],
      "source": [
        "from math import sin, cos, sqrt, atan2, radians\n",
        "\n",
        "def calculate_distance(lat1, lon1, lat2, lon2):\n",
        "    # Radio de la tierra en km\n",
        "    R = 6373.0\n",
        "\n",
        "    lat1 = radians(lat1)\n",
        "    lon1 = radians(lon1)\n",
        "    lat2 = radians(lat2)\n",
        "    lon2 = radians(lon2)\n",
        "\n",
        "    dlon = lon2 - lon1\n",
        "    dlat = lat2 - lat1\n",
        "\n",
        "    a = sin(dlat / 2)**2 + cos(lat1) * cos(lat2) * sin(dlon / 2)**2\n",
        "    c = 2 * atan2(sqrt(a), sqrt(1 - a))\n",
        "\n",
        "    distance = R * c\n",
        "    return distance"
      ]
    },
    {
      "cell_type": "markdown",
      "metadata": {
        "id": "PJnI1C95QRAL"
      },
      "source": [
        "Seleccióna un punto en la línea de costa más cercana utilizando MousePosition para averiguar sus coordenadas. Calcula la distancia entre el punto de la línea de costa y el lugar de lanzamiento.\n"
      ]
    },
    {
      "cell_type": "code",
      "execution_count": null,
      "metadata": {
        "id": "knc-cpAyQRAL"
      },
      "outputs": [],
      "source": [
        "# Calcula la distancia a la coordenada de la costa más cercana\n",
        "  #Lat: 28.56367  Lon: -80.57163\n",
        "\n",
        "coordenadas_estacion=[28.56367,-80.57163]\n",
        "coordenadas_punto=[28.56221,-80.59546]\n",
        "coordinates=[coordenadas_estacion,coordenadas_punto]\n",
        "distance_coastline = calculate_distance(28.56367,-80.57163,28.56467,-80.59546)\n",
        "print(distance_coastline)"
      ]
    },
    {
      "cell_type": "markdown",
      "source": [
        "Para mostrar la linea que une los puntos utilizaremos el siguiente código:"
      ],
      "metadata": {
        "id": "K7fPc_J82KLd"
      }
    },
    {
      "cell_type": "code",
      "source": [
        "# Crear un objeto `folium.PolyLine` utilizando las coordenadas de la línea de costa y la coordenada del lugar de lanzamiento\n",
        "#[28.56367,-80.57163, 28.56467,-80.59546]\n",
        "coordenadas_estacion=[28.56367,-80.57163]\n",
        "coordenadas_punto=[28.56221,-80.59546]\n",
        "coordinates=[coordenadas_estacion,coordenadas_punto]\n",
        "\n",
        "lines=folium.PolyLine(locations=[coordinates[0][0],coordinates[0][1],coordinates[1][0],coordinates[1][1]], weight=1)\n",
        "site_map.add_child(lines)"
      ],
      "metadata": {
        "id": "5x5pZoDw2LNo"
      },
      "execution_count": null,
      "outputs": []
    },
    {
      "cell_type": "markdown",
      "metadata": {
        "id": "TwP7_79kQRAM"
      },
      "source": [
        "Después de obtener su coordenada, crea un `folium.Marker` para mostrar la distancia\n"
      ]
    },
    {
      "cell_type": "code",
      "execution_count": null,
      "metadata": {
        "id": "apsCUaZFQRAM"
      },
      "outputs": [],
      "source": [
        "# Crear y añadir un folio.Marcador en el punto de costa más cercano seleccionado en el mapa\n",
        "# Muestra la distancia entre el punto de la línea de costa y el lugar de lanzamiento utilizando la propiedad del icono \n",
        "\n",
        "distance_marker = folium.Marker(\n",
        "   [coordinate],\n",
        "   icon=DivIcon(\n",
        "       icon_size=(20,20),\n",
        "       icon_anchor=(0,0),\n",
        "       html='<div style=\"font-size: 12; color:#d35400;\"><b>%s</b></div>' % \"{:10.2f} KM\".format(distance),\n",
        "       )\n",
        "   )"
      ]
    },
    {
      "cell_type": "code",
      "execution_count": null,
      "metadata": {
        "id": "wnHIRUigQRAM"
      },
      "outputs": [],
      "source": [
        "#Inserta tu código aquí\n",
        "coordinates = [\n",
        "    [28.56342, -80.57674],\n",
        "    [28.56342, -80.56756]]\n",
        "\n",
        "lines=folium.PolyLine(locations=coordinates, weight=1)\n",
        "site_map.add_child(lines)\n",
        "distance = calculate_distance(coordinates[0][0], coordinates[0][1], coordinates[1][0], coordinates[1][1])\n",
        "distance_circle = \n",
        "site_map.add_child(distance_circle)\n",
        "site_map"
      ]
    },
    {
      "cell_type": "markdown",
      "metadata": {
        "id": "WJ_kRvgjQRAN"
      },
      "source": [
        "El mapa actualizado con la línea de distancia debería verse como la siguiente captura de pantalla:\n"
      ]
    },
    {
      "cell_type": "markdown",
      "metadata": {
        "id": "4UqNL3DOQRAO"
      },
      "source": [
        "<center>\n",
        "    <img src=\"https://cf-courses-data.s3.us.cloud-object-storage.appdomain.cloud/IBM-DS0321EN-SkillsNetwork/labs/module_3/images/launch_site_marker_distance.png\" />\n",
        "</center>\n"
      ]
    },
    {
      "cell_type": "markdown",
      "metadata": {
        "id": "XyxjmOQ0QRAO"
      },
      "source": [
        " Del mismo modo, puede dibujar una línea entre un lugar de lanzamiento y su ciudad, ferrocarril, carretera, etc. más cercanos. Para ello, es necesario utilizar `MousePosition` para encontrar sus coordenadas en el mapa\n"
      ]
    },
    {
      "cell_type": "markdown",
      "metadata": {
        "id": "0sQ8CiSDQRAO"
      },
      "source": [
        "El símbolo de una linea ferrofiaría puede tener este aspecto:\n"
      ]
    },
    {
      "cell_type": "markdown",
      "metadata": {
        "id": "rvBnodHHQRAO"
      },
      "source": [
        "<center>\n",
        "    <img src=\"https://cf-courses-data.s3.us.cloud-object-storage.appdomain.cloud/IBM-DS0321EN-SkillsNetwork/labs/module_3/images/railway.png\" />\n",
        "</center>\n"
      ]
    },
    {
      "cell_type": "markdown",
      "metadata": {
        "id": "-kfylDBuQRAO"
      },
      "source": [
        "Un símbolo de carretera puede tener este aspecto:\n"
      ]
    },
    {
      "cell_type": "markdown",
      "metadata": {
        "id": "RH_roP77QRAP"
      },
      "source": [
        "<center>\n",
        "    <img src=\"https://cf-courses-data.s3.us.cloud-object-storage.appdomain.cloud/IBM-DS0321EN-SkillsNetwork/labs/module_3/images/highway.png\" />\n",
        "</center>\n"
      ]
    },
    {
      "cell_type": "markdown",
      "metadata": {
        "id": "Q8vd2ozUQRAP"
      },
      "source": [
        "Una ciudad puede tener este aspecto:\n"
      ]
    },
    {
      "cell_type": "markdown",
      "metadata": {
        "id": "dmE-nxFSQRAP"
      },
      "source": [
        "<center>\n",
        "    <img src=\"https://cf-courses-data.s3.us.cloud-object-storage.appdomain.cloud/IBM-DS0321EN-SkillsNetwork/labs/module_3/images/city.png\" />\n",
        "</center>\n"
      ]
    },
    {
      "cell_type": "markdown",
      "source": [
        "Crea dos mapas que muestren la distancia hasta una interesección en la autopista y otro hasta una ciudad."
      ],
      "metadata": {
        "id": "lcL2AAG_2ycU"
      }
    },
    {
      "cell_type": "code",
      "execution_count": null,
      "metadata": {
        "id": "7e7DKsAZQRAP"
      },
      "outputs": [],
      "source": [
        "#Inserta tu código aquí\n"
      ]
    },
    {
      "cell_type": "code",
      "execution_count": null,
      "metadata": {
        "id": "Uq8nvux7QRAM"
      },
      "outputs": [],
      "source": [
        "\n",
        "#Distancia a una intersección con ferrocarril\n",
        "coordinates = [\n",
        "    [28.56342, -80.57674],\n",
        "    [28.411780, -80.820630]]\n",
        "\n",
        "lines=folium.PolyLine(locations=coordinates, weight=1)\n",
        "site_map.add_child(lines)\n",
        "distance = calculate_distance(coordinates[0][0], coordinates[0][1], coordinates[1][0], coordinates[1][1])\n",
        "distance_circle = folium.Marker(\n",
        "    [28.411780, -80.820630],\n",
        "    icon=DivIcon(\n",
        "        icon_size=(20,20),\n",
        "        icon_anchor=(0,0),\n",
        "        html='<div style=\"font-size: 12; color:#252526;\"><b>%s</b></div>' % \"{:10.2f} KM\".format(distance),\n",
        "        )\n",
        "    )\n",
        "site_map.add_child(distance_circle)\n",
        "site_map"
      ]
    },
    {
      "cell_type": "code",
      "execution_count": null,
      "metadata": {
        "id": "fQkvWkJ-QRAP"
      },
      "outputs": [],
      "source": [
        "#Distancia a la ciudad de Orlando\n",
        "\n",
        "coordinates = [\n",
        "    [28.56342, -80.57674],\n",
        "    [28.5383, -81.3792]]\n",
        "\n",
        "lines=folium.PolyLine(locations=coordinates, weight=1)\n",
        "site_map.add_child(lines)\n",
        "distance = calculate_distance(coordinates[0][0], coordinates[0][1], coordinates[1][0], coordinates[1][1])\n",
        "distance_circle = folium.Marker(\n",
        "    [28.5383, -81.3792],\n",
        "    icon=DivIcon(\n",
        "        icon_size=(20,20),\n",
        "        icon_anchor=(0,0),\n",
        "        html='<div style=\"font-size: 12; color:#252526;\"><b>%s</b></div>' % \"{:10.2f} KM\".format(distance),\n",
        "        )\n",
        "    )\n",
        "site_map.add_child(distance_circle)\n",
        "site_map"
      ]
    },
    {
      "cell_type": "markdown",
      "metadata": {
        "id": "rpvDOifgQRAQ"
      },
      "source": [
        "Después de trazar las líneas de distancia a las proximidades, podrá responder fácilmente a las siguientes preguntas:\n",
        "\n",
        "* ¿Los lugares de lanzamiento están cerca de las vías férreas? \n",
        "* ¿Están las zonas de lanzamiento cerca de las autopistas? \n",
        "* ¿Están las zonas de lanzamiento cerca de la costa? \n",
        "* ¿Los lugares de lanzamiento se mantienen a cierta distancia de las ciudades? \n",
        "\n",
        "Intenta también explicar sus conclusiones.\n"
      ]
    }
  ],
  "metadata": {
    "kernelspec": {
      "display_name": "Python 3.9.8 64-bit ('ibmierda')",
      "language": "python",
      "name": "python3"
    },
    "language_info": {
      "codemirror_mode": {
        "name": "ipython",
        "version": 3
      },
      "file_extension": ".py",
      "mimetype": "text/x-python",
      "name": "python",
      "nbconvert_exporter": "python",
      "pygments_lexer": "ipython3",
      "version": "3.9.8"
    },
    "papermill": {
      "duration": 142.196942,
      "end_time": "2020-09-19T06:29:13.341578",
      "environment_variables": {},
      "exception": null,
      "input_path": "__notebook__.ipynb",
      "output_path": "__notebook__.ipynb",
      "parameters": {},
      "start_time": "2020-09-19T06:26:51.144636",
      "version": "2.1.0"
    },
    "vscode": {
      "interpreter": {
        "hash": "06669450a20e2437c01e88e64dc68c8dfa788e15199dfc60591c3e13974a3c24"
      }
    },
    "colab": {
      "provenance": []
    }
  },
  "nbformat": 4,
  "nbformat_minor": 0
}