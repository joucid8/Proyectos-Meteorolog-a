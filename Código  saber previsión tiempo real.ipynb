{
 "cells": [
  {
   "cell_type": "code",
   "execution_count": 2,
   "id": "fd89cc88",
   "metadata": {},
   "outputs": [
    {
     "name": "stdout",
     "output_type": "stream",
     "text": [
      "{\"coord\":{\"lon\":-7.4568,\"lat\":42.4567},\"weather\":[{\"id\":800,\"main\":\"Clear\",\"description\":\"clear sky\",\"icon\":\"01d\"}],\"base\":\"stations\",\"main\":{\"temp\":18.13,\"feels_like\":17.1,\"temp_min\":18.13,\"temp_max\":18.13,\"pressure\":1020,\"humidity\":42,\"sea_level\":1020,\"grnd_level\":957},\"visibility\":10000,\"wind\":{\"speed\":5.33,\"deg\":355,\"gust\":6.36},\"clouds\":{\"all\":10},\"dt\":1684157696,\"sys\":{\"type\":2,\"id\":2021300,\"country\":\"ES\",\"sunrise\":1684127319,\"sunset\":1684179832},\"timezone\":7200,\"id\":6359192,\"name\":\"Monforte de Lemos\",\"cod\":200}\n",
      "\n",
      "Condiciones climatologicas\n",
      "Latitud: 42.4567\n",
      "Longitud: -7.4568\n",
      "Temperatura: 18.13\n",
      "Sensación termica: 17.1\n",
      "Temperatura minima: 18.13\n",
      "Temperatura máxima: 18.13\n",
      "Presión atmosferica: 1020\n",
      "Humedad: 42\n",
      "Visibilidad: 10000\n",
      "Velocidad del viento 5.33\n",
      "Dirección del viento: 355\n",
      "Abundancia de nubes: 10 %\n",
      "Hora cálculo datos: 15-05-2023 15:34:56\n",
      "Código país: ES\n",
      "Hora amanecer: 07:08:39\n",
      "Hora atardecer: 21:43:52\n",
      "Población: Monforte de Lemos\n",
      "Código población: 6359192\n"
     ]
    }
   ],
   "source": [
    "import requests\n",
    "import json\n",
    "import datetime\n",
    "\n",
    "#city=input(\"Introduce ciudad\")\n",
    "url = \"https://api.openweathermap.org/data/2.5/weather\"\n",
    "\n",
    "\n",
    "querystring = {\"lat\":\"42.4567\",\"lon\":\"-7.45678\",\"appid\":\"8043cd88b72db3ed2eaed22b0124f05a\",\"units\":\"metric\",\"lang\":\"38\"}\n",
    "\n",
    "headers = {\n",
    "    'Cache-Control': 'no-cache'\n",
    "    }\n",
    "\n",
    "response = requests.request(\"GET\", url, headers=headers, params=querystring)\n",
    "\n",
    "print(response.text)\n",
    "\n",
    "data = json.loads(response.content)\n",
    "\n",
    "hora_UTC = datetime.datetime.fromtimestamp(data['dt'])\n",
    "amanecer = datetime.datetime.fromtimestamp(data['sys'][\"sunrise\"])\n",
    "atardecer = datetime.datetime.fromtimestamp(data['sys'][\"sunset\"])\n",
    "\n",
    "\n",
    "print('')\n",
    "print('Condiciones climatologicas')\n",
    "print('Latitud:', data['coord']['lat'])\n",
    "print('Longitud:', data['coord']['lon'])\n",
    "print('Temperatura:', data['main']['temp'])\n",
    "print('Sensación termica:', data['main']['feels_like'])\n",
    "print('Temperatura minima:', data['main']['temp_min'])\n",
    "print('Temperatura máxima:', data['main']['temp_max'])\n",
    "print('Presión atmosferica:', data['main']['pressure'])\n",
    "print('Humedad:', data['main']['humidity'])\n",
    "print('Visibilidad:', data['visibility'])\n",
    "print('Velocidad del viento', data['wind']['speed'])\n",
    "print('Dirección del viento:', data['wind']['deg'])\n",
    "print('Abundancia de nubes:', str(data['clouds']['all']) + ' %')\n",
    "print('Hora cálculo datos:', hora_UTC.strftime('%d-%m-%Y %H:%M:%S'))\n",
    "print('Código país:', data['sys']['country'])\n",
    "print('Hora amanecer:', amanecer.strftime('%H:%M:%S'))\n",
    "print('Hora atardecer:', atardecer.strftime('%H:%M:%S'))\n",
    "print('Población:', data['name'])\n",
    "print('Código población:', data['id'])"
   ]
  },
  {
   "cell_type": "code",
   "execution_count": null,
   "id": "418c9fbd",
   "metadata": {},
   "outputs": [],
   "source": []
  }
 ],
 "metadata": {
  "kernelspec": {
   "display_name": "Python 3 (ipykernel)",
   "language": "python",
   "name": "python3"
  },
  "language_info": {
   "codemirror_mode": {
    "name": "ipython",
    "version": 3
   },
   "file_extension": ".py",
   "mimetype": "text/x-python",
   "name": "python",
   "nbconvert_exporter": "python",
   "pygments_lexer": "ipython3",
   "version": "3.10.9"
  }
 },
 "nbformat": 4,
 "nbformat_minor": 5
}
